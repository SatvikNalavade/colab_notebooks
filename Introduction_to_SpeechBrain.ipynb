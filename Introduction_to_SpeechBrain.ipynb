{
  "nbformat": 4,
  "nbformat_minor": 0,
  "metadata": {
    "colab": {
      "provenance": [],
      "include_colab_link": true
    },
    "kernelspec": {
      "name": "python3",
      "display_name": "Python 3"
    }
  },
  "cells": [
    {
      "cell_type": "markdown",
      "metadata": {
        "id": "view-in-github",
        "colab_type": "text"
      },
      "source": [
        "<a href=\"https://colab.research.google.com/github/SatvikNalavade/colab_notebooks/blob/main/Introduction_to_SpeechBrain.ipynb\" target=\"_parent\"><img src=\"https://colab.research.google.com/assets/colab-badge.svg\" alt=\"Open In Colab\"/></a>"
      ]
    },
    {
      "cell_type": "markdown",
      "metadata": {
        "id": "iapgj8yTJV5Q"
      },
      "source": [
        "[![GitHub Repo stars](https://img.shields.io/github/stars/speechbrain/speechbrain?style=social) *Please, help our community project. Star on GitHub!*](https://github.com/speechbrain/speechbrain)\n",
        "\n",
        "![banner-logo.png](data:image/png;base64,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)"
      ]
    },
    {
      "cell_type": "markdown",
      "metadata": {
        "id": "dmf1KHEN6g32"
      },
      "source": [
        "# **Introduction to SpeechBrain**\n",
        "\n",
        "SpeechBrain is an **open-source** **all-in-one** speech toolkit based on **PyTorch**. It is designed to make the research and development of speech technology easier.\n",
        "\n",
        "## **Motivation**\n",
        "There are many speech and audio processing tasks of great practical and scientific interest.  \n",
        "\n",
        "In the past, the dominant approach was to develop a **different toolkit for each different task**. Nevertheless, learning several toolkits is **time-demanding**, might require knowledge of **different programming languages**,  and forces you to familiarize yourself with  **different code styles and standards** (e.g., data readers).\n",
        "\n",
        "Nowadays, most of these tasks can be implemented with the same **deep learning**  technology.\n",
        "We thus explicitly designed SpeechBrain to natively support **multiple speech processing tasks**. We think that this might make much easier the life of speech developers. Moreover, we think that the combination of different speech technologies in single **end-to-end** and **fully differential system** will be crucial in the development of future speech technologies.\n",
        "\n",
        "We did our best to design a toolkit which is:\n",
        "*   *Easy to use*\n",
        "*   *Easy to customize*\n",
        "*  *Flexible*\n",
        "* *Modular*\n",
        "* *Well-documented*"
      ]
    },
    {
      "cell_type": "markdown",
      "metadata": {
        "id": "iiwk7738KFvt"
      },
      "source": [
        "## **Supported Technology**\n",
        "\n",
        "You can thus use speechbrain to convert *speech-to-text*, to perform authentication using `speaker verification`, to enhance the quality of the speech signal, to combine the information from multiple microphones, and for many other things.\n",
        "\n",
        "More precisely, SpeechBrain currently supports many conversational AI technologies, including:\n",
        "\n",
        "- Speech Recognition\n",
        "- Speaker Recognition\n",
        "- Speech Separation\n",
        "- Speech Enhancement\n",
        "- Text-to-Speech\n",
        "- Vocoding\n",
        "- Spoken Language Understanding\n",
        "- Speech-to-Speech Translation\n",
        "- Speech Translation\n",
        "- Emotion Classification\n",
        "- Language Identification\n",
        "- Voice Activity Detection\n",
        "- Sound Classification\n",
        "- Self-Supervised Learning\n",
        "- Interpretabiliy\n",
        "- Speech Generation\n",
        "- Metric Learning\n",
        "- Allignment\n",
        "- Diarization\n",
        "- Language Modeling\n",
        "- Response Generation\n",
        "- Grapheme-to-Phoneme\n",
        "\n",
        "For all these tasks, we propose recipes on popular datasets that achieve **competitive** or state-of-the-art **performance**.\n",
        "\n",
        "SpeechBrain is an ongoing project (still in beta version) and we are building a large community to further expand the current functionalities."
      ]
    },
    {
      "cell_type": "markdown",
      "metadata": {
        "id": "qbn5PX8mKHFz"
      },
      "source": [
        "## **Installation**\n",
        "\n",
        "There are essentially two ways to install SpeechBrain:\n",
        "*  **Local installation**: it is suggested if you want to modify the toolkit or train a full speech processing system from scratch.\n",
        "\n",
        "*  **Install via PyPI**: it is suggested when you wanna just use some core functionality of SpeechBrain in your project.\n",
        "\n",
        "**Note:** SpeechBrain expects a python version >=3.7. However, it also works with the python 3.6 available in Colab.\n"
      ]
    },
    {
      "cell_type": "markdown",
      "metadata": {
        "id": "Z60RdK8V54dW"
      },
      "source": [
        "### Local Installation (Git clone)"
      ]
    },
    {
      "cell_type": "code",
      "metadata": {
        "id": "NQ3rDQslkn12"
      },
      "source": [
        "%%capture\n",
        "# Installing SpeechBrain via pip\n",
        "BRANCH = 'develop'\n",
        "!python -m pip install git+https://github.com/speechbrain/speechbrain.git@$BRANCH\n",
        "\n",
        "# Clone SpeechBrain repository\n",
        "!git clone https://github.com/speechbrain/speechbrain/\n",
        "%cd /content/speechbrain/templates/speech_recognition/"
      ],
      "execution_count": null,
      "outputs": []
    },
    {
      "cell_type": "markdown",
      "metadata": {
        "id": "XG16N39sfnJs"
      },
      "source": [
        "Once installed, you should be able to import the speechbrain project with python:"
      ]
    },
    {
      "cell_type": "code",
      "source": [
        "import speechbrain as sb"
      ],
      "metadata": {
        "id": "hbMISpjh0s3e"
      },
      "execution_count": null,
      "outputs": []
    },
    {
      "cell_type": "markdown",
      "metadata": {
        "id": "lxVO1Mj9MsSh"
      },
      "source": [
        "## **Running an Experiment**\n"
      ]
    },
    {
      "cell_type": "markdown",
      "metadata": {
        "id": "TpYzWszYjOZR"
      },
      "source": [
        "To run an experiment with SpeechBrain, the typical syntax is:\n",
        "\n",
        "```\n",
        "python train.py hparams.yaml\n",
        "```\n",
        "\n",
        "All the hyperparameters are summarized in a yaml file, while the main script for training is `train.py`.\n",
        "\n",
        "For instance, let's run one of the minimal examples made available with SpeechBrain:"
      ]
    },
    {
      "cell_type": "code",
      "metadata": {
        "id": "fCukWAmn5TN2"
      },
      "source": [
        "%cd /content/speechbrain/tests/integration/ASR_CTC/\n",
        "!python example_asr_ctc_experiment.py hyperparams.yaml"
      ],
      "execution_count": null,
      "outputs": []
    },
    {
      "cell_type": "markdown",
      "metadata": {
        "id": "PAdSpX2mn0YT"
      },
      "source": [
        "In this case,  we trained a CTC-based **speech recognizer** with a tiny dataset stored in the folder `samples`. As you can see, the training loss is very small, which indicates that the model is implemented correctly.\n",
        "The validation loss, instead, is high. This happens because, as expected, the dataset is too small to allow the network to generalize.\n",
        "\n",
        "For a more detailed description of the minimal examples, please see the tutorial on \"minimal examples step-by-step\".\n",
        "\n",
        "All the results of the experiments are stored in the `output_folder` defined in the yaml file. Here, you can find, the checkpoints, the trained models, a file summarizing the performance, and a logger. For all the recipe currently\n",
        " supported, you can find our results here:\n",
        "\n",
        "https://drive.google.com/drive/folders/1ZVuROxR711Xib2MsJbcPla4PWqbK1Ddw?usp=sharing\n",
        "\n",
        "This way, you can compare your performance with the one achieved by us and you can have access to all the pre-trained models.\n"
      ]
    },
    {
      "cell_type": "markdown",
      "metadata": {
        "id": "19-Fpm4ArfP_"
      },
      "source": [
        "## **Hyperparameter specification with YAML**\n",
        "Machine learning systems often require the specification of several hyperparameters. In SpeechBrain, we do it with YAML. YAML allows us to specify the hyperparameters in an elegant,  flexible,  and transparent way.\n",
        "\n",
        "Let's see for instance this yaml snippet:\n",
        "\n",
        "\n",
        "```yaml\n",
        "dropout: 0.8\n",
        "compute_features: !new:speechbrain.lobes.features.MFCC\n",
        "    n_mels: 40\n",
        "    left_frames: 5\n",
        "    right_frames: 5\n",
        "\n",
        "model: !new:speechbrain.lobes.models.CRDNN.CRDNN\n",
        "   input_shape: [null, null, 440]\n",
        "   activation: !name:torch.nn.LeakyReLU []\n",
        "   dropout:  !ref <dropout>\n",
        "   cnn_blocks: 2\n",
        "   cnn_channels: (32, 16)\n",
        "   cnn_kernelsize: (3, 3)\n",
        "   time_pooling: True\n",
        "   rnn_layers: 2\n",
        "   rnn_neurons: 512\n",
        "   rnn_bidirectional: True\n",
        "   dnn_blocks: 2\n",
        "   dnn_neurons: 1024\n",
        "```\n",
        "\n",
        "As you can see, this is not just a plain list of hyperparameters. For each parameter, we specify the class (or function) that is going to use it. This makes the code **more transparent** and **easier to debug**.\n",
        "\n",
        "The YAML file contains all the information to initialize the classes when loading them. In SpeechBrain we load it with a special function called `load_hyperpyyaml`, which initializes for us all the declared classes. This makes the code extremely **readable** and **compact**.\n",
        "\n",
        "Our hyperpyyaml is an extension of the standard YAML. For an overview of all the supported functionalities, please take a look at the [YAML tutorial](https://colab.research.google.com/drive/1Pg9by4b6-8QD2iC0U7Ic3Vxq4GEwEdDz?usp=sharing).\n",
        "\n",
        "Note that all the hyperparameters can be overridden from the command line. For instance, to change the dropout factor:\n",
        "\n",
        "`python experiment.py params.yaml --dropout=0.5 `\n",
        "\n"
      ]
    },
    {
      "cell_type": "markdown",
      "metadata": {
        "id": "-yZGzRmFxJGg"
      },
      "source": [
        "## **Experiment File**\n",
        "The experiment file (e.g., `example_asr_ctc_experiment.py` in the example) trains a model by **combining** the functions or **classes declared in the yaml file**. This script defines the data processing pipeline and defines all the computations from the input signal to the final cost function. Everything is designed to be** easy to customize**.\n",
        "\n",
        "\n",
        "### Data Specification\n",
        "The user should prepare a data specification file (in **CSV** or JSON) format that reports all the data and the labels to process.\n",
        "\n",
        "For instance, in the minimal example ran before, the data specification file is this:\n",
        "\n",
        "\n",
        "```csv\n",
        "ID, duration, wav, wav_format, wav_opts, spk_id, spk_id_format, spk_id_opts, ali, ali_format, ali_opts, phn, phn_format, phn_opts,char,char_format,char_opts\n",
        "spk1_snt5,2.6,$data_folder/spk1_snt5.wav, wav, ,spk1,string, ,$data_folder/spk1_snt5.pkl,pkl, ,s ah n vcl d ey ih z dh ax vcl b eh s cl t cl p aa r dx ax v dh ax w iy cl,string, ,s u n d a y i s t h e b e s t p a r t o f t h e w e e k,string,\n",
        "spk2_snt5,1.98,$data_folder/spk2_snt5.wav, wav, ,spk2,string, ,$data_folder/spk2_snt5.pkl,pkl, ,vcl jh ah m cl p dh ax f eh n s ae n hh er iy ah cl p dh ax vcl b ae ng cl,string, ,k e n p a I r s l a c k f u l l f l a v o r,string,\n",
        "```\n",
        "\n",
        "You can open this file with a CSV reader for better rendering. For each row, you have an example with the corresponding paths to wav signal and labels.\n",
        "\n",
        "As an alternative, users can specify the data in a **JSON** format:\n",
        "\n",
        "\n",
        "```json\n",
        "{\n",
        "    \"spk1_snt5\": {\n",
        "        \"wav\": \"{data_root}/spk1_snt5.wav\",\n",
        "        \"length\": 2.6,\n",
        "        \"spk_id\": \"spk1\",\n",
        "        \"ali\": \"{data_root}/spk1_snt5.pkl\",\n",
        "        \"phn\": \"s ah n vcl d ey ih z dh ax vcl b eh s cl t cl p aa r dx ax v dh ax w iy cl\",\n",
        "        \"char\": \"s u n d a y i s t h e b e s t p a r t o f t h e w e e k\"\n",
        "    },\n",
        "    \"spk2_snt5\": {\n",
        "        \"wav\": \"{data_root}/spk2_snt5.wav\",\n",
        "        \"length\": 1.98,\n",
        "        \"spk_id\": \"spk2\",\n",
        "        \"ali\": \"{data_root}/spk2_snt5.pkl\",\n",
        "        \"phn\": \"vcl jh ah m cl p dh ax f eh n s ae n hh er iy ah cl p dh ax vcl b ae ng cl\",\n",
        "        \"char\": \"k e n p a i r s l a c k f u l l f l a v o r\"\n",
        "    }\n",
        "}\n",
        "```\n",
        "\n",
        "JSON is less compact than CSV but more flexible. For many applications, using the CSV file is enough. For more complex tasks (e.g, speaker diarization, speaker diarization + recognition), however, people might take advantage of the hierarchical structure offered by JSON.\n",
        "\n",
        "All datasets are formatted differently. In general, the users have to write a **data preparation** script that parses the target dataset and creates the data specification files. For all the proposed recipes, however, we also release the corresponding data preparation library.\n",
        "\n",
        "### Data processing pipeline\n",
        "Thanks to our Dynamic datasets, the data reading pipeline is fully customizable in the experiment file directly. For instance, in the minimal example, you can define the following intuitive function to read the audio file\n",
        "\n",
        "\n",
        "```python\n",
        "    # 2. Define audio pipeline:\n",
        "    @sb.utils.data_pipeline.takes(\"wav\")\n",
        "    @sb.utils.data_pipeline.provides(\"sig\")\n",
        "    def audio_pipeline(wav):\n",
        "        sig = sb.dataio.dataio.read_audio(wav)\n",
        "        return sig\n",
        "```\n",
        "\n",
        "The function takes in input the wav path and returns a signal read with the specified reader. In the variable `batch.sig` (see `example_asr_ctc_experiment.py`) you will have your batches of signals ready to be used. Note that here you can add any kind of processing (e.g, adding noise, speech change, dynamic mixing, etc) just by coding with the desired pipeline.\n",
        "\n",
        "A similar function should be written for all the entries that our script is supposed to process. The minimal example, for instance, reads a sequence of phoneme labels as well:\n",
        "\n",
        "\n",
        "```python\n",
        "    @sb.utils.data_pipeline.takes(\"phn\")\n",
        "    @sb.utils.data_pipeline.provides(\"phn_list\", \"phn_encoded\")\n",
        "    def text_pipeline(phn):\n",
        "        phn_list = phn.strip().split()\n",
        "        yield phn_list\n",
        "        phn_encoded = label_encoder.encode_sequence_torch(phn_list)\n",
        "        yield phn_encoded\n",
        "\n",
        "```\n",
        "Here, we read the phoneme list, separate each entry by space, and convert the list of phonemes to their corresponding indexes (using the label_encoder described [in this tutorial](https://colab.research.google.com/drive/1AiVJZhZKwEI4nFGANKXEe-ffZFfvXKwH?usp=sharing)).\n",
        "\n",
        "As you can see, we directly expose in the main script the data reading pipeline because this adds a lot of transparency and flexibility.\n",
        "\n",
        "### Custom forward and cost computation methods\n",
        "The other thing that users often want to customize is the sequence of computations that go from the input to the final cost function. In the experiment file, users are required to specify them in the `forward` and `compute_objectives` methods.\n",
        "In the minimal example, the forward method is defined as follows:\n",
        "\n",
        "\n",
        "```python\n",
        "    def compute_forward(self, batch, stage):\n",
        "        \"Given an input batch it computes the output probabilities.\"\n",
        "        wavs, lens = batch.sig\n",
        "        feats = self.hparams.compute_features(wavs)\n",
        "        feats = self.modules.mean_var_norm(feats, lens)\n",
        "        x = self.modules.model(feats)\n",
        "        x = self.modules.lin(x)\n",
        "        outputs = self.hparams.softmax(x)\n",
        "```\n",
        "\n",
        "The input is the variable batch that contains all the entries specified in the data loader (e.g, we have `batch.sig` and `batch.phn_encoded`). As you can see, we compute the features, we perform a mean and variance normalization, and we call the model. Finally, a linear transformation + softmax is applied.\n",
        "\n",
        "The compute objective function looks like this:\n",
        "\n",
        "```python\n",
        "    def compute_objectives(self, predictions, batch, stage):\n",
        "        \"Given the network predictions and targets computed the CTC loss.\"\n",
        "        predictions, lens = predictions\n",
        "        phns, phn_lens = batch.phn_encoded\n",
        "        loss = self.hparams.compute_cost(predictions, phns, lens, phn_lens)\n",
        "\n",
        "        if stage != sb.Stage.TRAIN:\n",
        "            seq = sb.decoders.ctc_greedy_decode(\n",
        "                predictions, lens, blank_id=self.hparams.blank_index\n",
        "            )\n",
        "            self.per_metrics.append(batch.id, seq, phns, target_len=phn_lens)\n",
        "\n",
        "        return loss\n",
        "```\n",
        "We take the predictions done in the forward step and compute a cost function using the encoded labels in batch.phn_encoded. During validation/test, we also perform actual decoding on the speech sequence (in this case using a greedy decoder and, in a more general case, using beam search) to monitor the performance.\n",
        "\n",
        "### Brain Class\n",
        "To make training easier, we implemented a simple trainer called **Brain class**. The Brain class defines a set of customizable routines that implement all the steps needed in standard **training and validation loops**. After defining the data pipeline, the forward, the compute objective, and other custom methods, you can call the fit method of the brain class for training (and the eval one for the test):\n",
        "\n",
        "```python\n",
        "    # Trainer initialization\n",
        "    ctc_brain = CTCBrain(hparams[\"modules\"], hparams[\"opt_class\"], hparams)\n",
        "\n",
        "    # Training/validation loop\n",
        "    ctc_brain.fit(\n",
        "        range(hparams[\"N_epochs\"]),\n",
        "        train_data,\n",
        "        valid_data,\n",
        "        train_loader_kwargs=hparams[\"dataloader_options\"],\n",
        "        valid_loader_kwargs=hparams[\"dataloader_options\"],\n",
        "    )\n",
        "    # Evaluation is run separately (now just evaluating on valid data)\n",
        "    ctc_brain.evaluate(valid_data)\n",
        "```\n",
        "For a more detailed description, take a look at the [Brain class tutorial here](https://colab.research.google.com/drive/1fdqTk4CTXNcrcSVFvaOKzRfLmj4fJfwa?usp=sharing).\n"
      ]
    },
    {
      "cell_type": "markdown",
      "metadata": {
        "id": "gOE1UED8z05V"
      },
      "source": [
        "## **Pretrain and use**\n",
        "Sometimes you might only want to use a pre-trained model rather than training it from scratch. For instance, you might want to transcribe an audio file, compute speaker embeddings, apply a voice activity detector, and doing many other operations in your scripts. To make this easier, we uploaded several models in [HuggingFace](https://huggingface.co/speechbrain/). The models uses inference classes to make inference easier. For instance, to transcribe an audio file with a model trained with librispeech you can simply do:\n"
      ]
    },
    {
      "cell_type": "code",
      "metadata": {
        "id": "PQonIcrNhebC"
      },
      "source": [
        "from speechbrain.inference.ASR import EncoderDecoderASR\n",
        "\n",
        "asr_model = EncoderDecoderASR.from_hparams(source=\"speechbrain/asr-crdnn-rnnlm-librispeech\", savedir=\"pretrained_models/asr-crdnn-rnnlm-librispeech\")\n",
        "asr_model.transcribe_file('speechbrain/asr-crdnn-rnnlm-librispeech/example.wav')"
      ],
      "execution_count": null,
      "outputs": []
    },
    {
      "cell_type": "markdown",
      "metadata": {
        "id": "UzbhBKksjTH4"
      },
      "source": [
        "As you can see, in this case there is a matching between the text uttered by the speaker and the content of the audio file.\n",
        "We have similar functions for speaker recognition, speech separation, enhancement."
      ]
    },
    {
      "cell_type": "markdown",
      "metadata": {
        "id": "_YgdsT3x_xz8"
      },
      "source": [
        "## **Folder Organization**\n",
        "The main folder is organized in this way:\n",
        "\n",
        "*   **SpeechBrain** contains the main libraries of SpeechBrain. You can find here the core.py that implements core functionalities such as the Brain class. You also find here libraries for data loading, decoders, neural networks, signal processing, and many others. Under the folder lobe, you can find combinations of basic functionalities that we think are useful for speech and audio processing. For instance, you can find here the implementation of features like FBANKs and MFCCs, the data augmentation functions, as well as some popular neural networks used a lot in the recipes.\n",
        "*   **Recipes** contains training scripts for several speech datasets. For instance, you can find recipes for *LibriSpeech*, *TIMIT*, *VoxCeleb*, *VoiceBank*, and many others.\n",
        "*   **Samples** is a tiny speech dataset used for training minimal examples and to perform debug tests.\n",
        "*   **Test** is a collection of unit and integration tests that we use for debugging and continuous integration."
      ]
    },
    {
      "cell_type": "markdown",
      "metadata": {
        "id": "raC03quSSCYC"
      },
      "source": [
        "## **Tensor Format**\n",
        "All the tensors within SpeechBrain are formatted using the following convention:\n",
        "\n",
        "`tensor=(batch, time_steps, channels[optional])`\n",
        "\n",
        "The batch is always the first element, and time steps are always the second one. The remaining dimensions are channels, which are options and there might be as many as you need).\n",
        "\n",
        "Let's now some examples. For instance, let's try to compute the FBANKS of an input signal:"
      ]
    },
    {
      "cell_type": "code",
      "metadata": {
        "id": "slYIC4fbXKER"
      },
      "source": [
        "import torch\n",
        "from speechbrain.lobes.features import Fbank\n",
        "\n",
        "signal = torch.rand([4, 16000]) # [batch, time]\n",
        "print(signal.shape)\n",
        "\n",
        "fbank_maker = Fbank()\n",
        "fbanks = fbank_maker(signal) # [batch, time, features]\n",
        "print(fbanks.shape)"
      ],
      "execution_count": null,
      "outputs": []
    },
    {
      "cell_type": "markdown",
      "metadata": {
        "id": "fZVzo5sUWUih"
      },
      "source": [
        "The `Fbank` function expects in input a signal formatted as `[batch, time]`. It returns the features in the format `[batch, time, features]`.\n",
        "\n",
        "Let's now try to compute the STFT of any audio signal:"
      ]
    },
    {
      "cell_type": "code",
      "metadata": {
        "id": "Zto6xdG6ZRm1"
      },
      "source": [
        "import torch\n",
        "from speechbrain.dataio.dataio import read_audio\n",
        "from speechbrain.processing.features import STFT\n",
        "\n",
        "signal = torch.rand([4, 1600]) # [batch, time]\n",
        "print(signal.shape)\n",
        "\n",
        "compute_STFT = STFT(sample_rate=16000, win_length=25, hop_length=10, n_fft=400)\n",
        "signal_STFT = compute_STFT(signal) #[batch, time, channel1, channel2]\n",
        "print(signal_STFT.shape)"
      ],
      "execution_count": null,
      "outputs": []
    },
    {
      "cell_type": "markdown",
      "metadata": {
        "id": "tCLEwNFmaJpx"
      },
      "source": [
        "The output here is `[batch, time, channel1, channel2]`, where  `channel1` is the feature axis and `channel2` is the real and imaginary part."
      ]
    },
    {
      "cell_type": "markdown",
      "metadata": {
        "id": "sAWfaD24bAvU"
      },
      "source": [
        "**Why do we need a tensor format?**\n",
        "Defining a tensor format makes model combination easier. Many formats are possible. For SpeechBrain, we selected this one because it is commonly used in recurrent neural networks.\n",
        "\n",
        "In SpeechBrain, the basic building blocks of the neural networks (e.g, *RNN*, *CNN*, *normalization*, *pooling*, ...) are designed to support the same tensor format and can thus be combined smoothly.\n",
        "\n",
        "To convince you about that, let's try to combine a CNN and an RNN using SpeechBrain:"
      ]
    },
    {
      "cell_type": "code",
      "metadata": {
        "id": "fURQxwJvcLf5"
      },
      "source": [
        "from speechbrain.nnet.CNN import Conv1d\n",
        "from  speechbrain.nnet.RNN import LSTM\n",
        "\n",
        "inp_tensor = torch.rand([10, 15, 40])\n",
        "print(inp_tensor.shape)\n",
        "\n",
        "# CNN\n",
        "CNN = Conv1d(input_shape=inp_tensor.shape, out_channels=8, kernel_size=5)\n",
        "cnn_out = CNN(inp_tensor)\n",
        "print(cnn_out.shape)\n",
        "\n",
        "\n",
        "# RNN\n",
        "RNN = LSTM(input_shape=cnn_out.shape, hidden_size=256, num_layers=1)\n",
        "rnn_out, _ = RNN(cnn_out)\n",
        "print(rnn_out.shape)"
      ],
      "execution_count": null,
      "outputs": []
    },
    {
      "cell_type": "markdown",
      "metadata": {
        "id": "GUZcFaxqfAKd"
      },
      "source": [
        "The combination is done without any tensor reshaping (e.g, we don't have to transpose, squeeze, unsqueeze). The basic nnet functions are a wrapper of the original pytorch functions.  The difference is that er manage for you all the annoying tensor reshaping operations. This makes the code cleaner and easier to follow.\n",
        "Let's try to do the same operation with raw PyTorch:"
      ]
    },
    {
      "cell_type": "code",
      "metadata": {
        "id": "ZGedYMKMgDHA"
      },
      "source": [
        "import torch\n",
        "\n",
        "inp_tensor = torch.rand([10, 15, 40])\n",
        "print(inp_tensor.shape)\n",
        "\n",
        "# CNN\n",
        "CNN = torch.nn.Conv1d(in_channels=40, out_channels=8, kernel_size=5)\n",
        "inp_tensor_tr = inp_tensor.transpose(1,2) # requres (N,C,L)\n",
        "cnn_out_tr = CNN(inp_tensor_tr)\n",
        "print(cnn_out_tr.shape)\n",
        "\n",
        "# RNN\n",
        "cnn_out_tr2 = cnn_out_tr.transpose(1,2)\n",
        "RNN = torch.nn.LSTM(input_size=8, hidden_size=256, num_layers=1)\n",
        "rnn_out, _ = RNN(cnn_out_tr2)\n",
        "print(rnn_out.shape)\n"
      ],
      "execution_count": null,
      "outputs": []
    },
    {
      "cell_type": "markdown",
      "metadata": {
        "id": "K_UyB9yzi0PY"
      },
      "source": [
        "The raw pytorch approach requires two transpose operations because of the different tensor formats used in CNN and RNN modules. In SpeechBrain, this is managed internally and users do not have to worry about it."
      ]
    },
    {
      "cell_type": "markdown",
      "metadata": {
        "id": "CJd4v6CuBRA5"
      },
      "source": [
        "# **About SpeechBrain**\n",
        "- Website: https://speechbrain.github.io/\n",
        "- Code: https://github.com/speechbrain/speechbrain/\n",
        "- HuggingFace: https://huggingface.co/speechbrain/\n",
        "\n",
        "\n",
        "# **Citing SpeechBrain**\n",
        "Please, cite SpeechBrain if you use it for your research or business.\n",
        "\n",
        "```bibtex\n",
        "@misc{speechbrain,\n",
        "  title={SpeechBrain: A General-Purpose Speech Toolkit},\n",
        "  author={Mirco Ravanelli and Titouan Parcollet and Peter Plantinga and Aku Rouhe and Samuele Cornell and Loren Lugosch and Cem Subakan and Nauman Dawalatabad and Abdelwahab Heba and Jianyuan Zhong and Ju-Chieh Chou and Sung-Lin Yeh and Szu-Wei Fu and Chien-Feng Liao and Elena Rastorgueva and François Grondin and William Aris and Hwidong Na and Yan Gao and Renato De Mori and Yoshua Bengio},\n",
        "  year={2021},\n",
        "  eprint={2106.04624},\n",
        "  archivePrefix={arXiv},\n",
        "  primaryClass={eess.AS}\n",
        "}\n",
        "```"
      ]
    },
    {
      "cell_type": "markdown",
      "metadata": {
        "id": "9gMv7vuBDrew"
      },
      "source": [
        "# **About SpeechBrain**\n",
        "- Website: https://speechbrain.github.io/\n",
        "- Code: https://github.com/speechbrain/speechbrain/\n",
        "- HuggingFace: https://huggingface.co/speechbrain/\n",
        "\n",
        "\n",
        "# **Citing SpeechBrain**\n",
        "Please, cite SpeechBrain if you use it for your research or business.\n",
        "\n",
        "```bibtex\n",
        "@misc{speechbrain,\n",
        "  title={{SpeechBrain}: A General-Purpose Speech Toolkit},\n",
        "  author={Mirco Ravanelli and Titouan Parcollet and Peter Plantinga and Aku Rouhe and Samuele Cornell and Loren Lugosch and Cem Subakan and Nauman Dawalatabad and Abdelwahab Heba and Jianyuan Zhong and Ju-Chieh Chou and Sung-Lin Yeh and Szu-Wei Fu and Chien-Feng Liao and Elena Rastorgueva and François Grondin and William Aris and Hwidong Na and Yan Gao and Renato De Mori and Yoshua Bengio},\n",
        "  year={2021},\n",
        "  eprint={2106.04624},\n",
        "  archivePrefix={arXiv},\n",
        "  primaryClass={eess.AS},\n",
        "  note={arXiv:2106.04624}\n",
        "}\n",
        "```"
      ]
    }
  ]
}