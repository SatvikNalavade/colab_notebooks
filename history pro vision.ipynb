{
  "cells": [
    {
      "cell_type": "markdown",
      "source": [
        "Conversational chat with text and image"
      ],
      "metadata": {
        "id": "5RU4uyu1rqHR"
      }
    },
    {
      "cell_type": "markdown",
      "source": [
        "# Markdown\n",
        "\n"
      ],
      "metadata": {
        "id": "7nlFhnvv9DQd"
      }
    },
    {
      "cell_type": "code",
      "source": [
        "import pathlib\n",
        "import textwrap\n",
        "\n",
        "import google.generativeai as genai\n",
        "\n",
        "from IPython.display import display\n",
        "from IPython.display import Markdown\n",
        "\n",
        "\n",
        "def to_markdown(text):\n",
        "  text = text.replace('•', '  *')\n",
        "  return Markdown(textwrap.indent(text, '> ', predicate=lambda _: True))"
      ],
      "metadata": {
        "id": "m_N8c4AY9G7T"
      },
      "execution_count": 2,
      "outputs": []
    },
    {
      "cell_type": "markdown",
      "source": [
        "----------------"
      ],
      "metadata": {
        "id": "L1A_BfsOGcTt"
      }
    },
    {
      "cell_type": "markdown",
      "source": [
        "# Dependencies"
      ],
      "metadata": {
        "id": "PiqeS6_xQb1s"
      }
    },
    {
      "cell_type": "code",
      "source": [
        "!pip install -q -U google-generativeai"
      ],
      "metadata": {
        "id": "I6zKmEtnrvJp"
      },
      "execution_count": 3,
      "outputs": []
    },
    {
      "cell_type": "code",
      "source": [
        "!pip install -U --quiet langchain-google-genai  langchain"
      ],
      "metadata": {
        "colab": {
          "base_uri": "https://localhost:8080/"
        },
        "id": "yZtsyAhSLuZ-",
        "outputId": "2e4ce43f-de63-42f7-e91c-f740d98421cf"
      },
      "execution_count": 4,
      "outputs": [
        {
          "output_type": "stream",
          "name": "stdout",
          "text": [
            "\u001b[?25l     \u001b[90m━━━━━━━━━━━━━━━━━━━━━━━━━━━━━━━━━━━━━━━━\u001b[0m \u001b[32m0.0/816.1 kB\u001b[0m \u001b[31m?\u001b[0m eta \u001b[36m-:--:--\u001b[0m\r\u001b[2K     \u001b[91m━━━━━━━━━━━━━━━━━━━━━━━━━━━\u001b[0m\u001b[91m╸\u001b[0m\u001b[90m━━━━━━━━━━━━\u001b[0m \u001b[32m563.2/816.1 kB\u001b[0m \u001b[31m16.6 MB/s\u001b[0m eta \u001b[36m0:00:01\u001b[0m\r\u001b[2K     \u001b[90m━━━━━━━━━━━━━━━━━━━━━━━━━━━━━━━━━━━━━━━━\u001b[0m \u001b[32m816.1/816.1 kB\u001b[0m \u001b[31m15.5 MB/s\u001b[0m eta \u001b[36m0:00:00\u001b[0m\n",
            "\u001b[2K     \u001b[90m━━━━━━━━━━━━━━━━━━━━━━━━━━━━━━━━━━━━━━━━\u001b[0m \u001b[32m241.3/241.3 kB\u001b[0m \u001b[31m27.6 MB/s\u001b[0m eta \u001b[36m0:00:00\u001b[0m\n",
            "\u001b[2K     \u001b[90m━━━━━━━━━━━━━━━━━━━━━━━━━━━━━━━━━━━━━━━━\u001b[0m \u001b[32m1.7/1.7 MB\u001b[0m \u001b[31m59.3 MB/s\u001b[0m eta \u001b[36m0:00:00\u001b[0m\n",
            "\u001b[2K     \u001b[90m━━━━━━━━━━━━━━━━━━━━━━━━━━━━━━━━━━━━━━━━\u001b[0m \u001b[32m61.0/61.0 kB\u001b[0m \u001b[31m8.2 MB/s\u001b[0m eta \u001b[36m0:00:00\u001b[0m\n",
            "\u001b[2K     \u001b[90m━━━━━━━━━━━━━━━━━━━━━━━━━━━━━━━━━━━━━━━━\u001b[0m \u001b[32m49.4/49.4 kB\u001b[0m \u001b[31m5.7 MB/s\u001b[0m eta \u001b[36m0:00:00\u001b[0m\n",
            "\u001b[?25h"
          ]
        }
      ]
    },
    {
      "cell_type": "markdown",
      "source": [
        "# Gemini model"
      ],
      "metadata": {
        "id": "1oWh9rLHQf5E"
      }
    },
    {
      "cell_type": "code",
      "execution_count": 5,
      "metadata": {
        "id": "d10c38a5c91f"
      },
      "outputs": [],
      "source": [
        "import google.generativeai as genai\n",
        "# Used to securely store your API key\n",
        "from google.colab import userdata"
      ]
    },
    {
      "cell_type": "code",
      "execution_count": 6,
      "metadata": {
        "id": "ab9ASynfcIZn"
      },
      "outputs": [],
      "source": [
        "# Or use `os.getenv('GOOGLE_API_KEY')` to fetch an environment variable.\n",
        "GOOGLE_API_KEY=userdata.get('GOOGLE_API_KEY')\n",
        "\n",
        "genai.configure(api_key=GOOGLE_API_KEY)\n"
      ]
    },
    {
      "cell_type": "code",
      "source": [
        "model = genai.GenerativeModel('gemini-pro-vision')"
      ],
      "metadata": {
        "id": "3H7u5xmTrvaZ"
      },
      "execution_count": 7,
      "outputs": []
    },
    {
      "cell_type": "markdown",
      "source": [
        "# Image"
      ],
      "metadata": {
        "id": "A6okYqZuy6y_"
      }
    },
    {
      "cell_type": "code",
      "source": [
        "import PIL.Image\n",
        "\n",
        "img = PIL.Image.open('ron.jfif')"
      ],
      "metadata": {
        "id": "DYx-PAvOy6I_"
      },
      "execution_count": 8,
      "outputs": []
    },
    {
      "cell_type": "markdown",
      "source": [
        "# LLM"
      ],
      "metadata": {
        "id": "zItETIr-QLaP"
      }
    },
    {
      "cell_type": "markdown",
      "source": [
        "----------"
      ],
      "metadata": {
        "id": "9IYxA2LMGVsd"
      }
    },
    {
      "cell_type": "code",
      "source": [
        "from langchain_core.messages import HumanMessage\n",
        "from langchain_google_genai import ChatGoogleGenerativeAI\n",
        "from langchain_core.output_parsers import JsonOutputParser"
      ],
      "metadata": {
        "id": "ENxBULSLylIQ"
      },
      "execution_count": 9,
      "outputs": []
    },
    {
      "cell_type": "code",
      "source": [
        "llm = ChatGoogleGenerativeAI(model=\"gemini-pro-vision\", google_api_key=GOOGLE_API_KEY)"
      ],
      "metadata": {
        "id": "tfxYIgfsysCQ"
      },
      "execution_count": 10,
      "outputs": []
    },
    {
      "cell_type": "markdown",
      "source": [
        "# Using insert to add context"
      ],
      "metadata": {
        "id": "aon0V37fyQHV"
      }
    },
    {
      "cell_type": "code",
      "source": [
        "message = HumanMessage(\n",
        "    content=[\n",
        "        {\n",
        "            \"type\": \"text\",\n",
        "            \"text\": \"Who is this?\",\n",
        "        },  # You can optionally provide text parts\n",
        "        {\"type\": \"image_url\", \"image_url\": img},\n",
        "    ]\n",
        ")\n",
        "message_output = llm.invoke([message])\n",
        "\n",
        "print(message_output.content)"
      ],
      "metadata": {
        "id": "tn1Lg0K2rvoJ"
      },
      "execution_count": null,
      "outputs": []
    },
    {
      "cell_type": "code",
      "source": [
        "message"
      ],
      "metadata": {
        "id": "_3kiDABazYlA"
      },
      "execution_count": null,
      "outputs": []
    },
    {
      "cell_type": "code",
      "source": [
        "# we can add text into content\n",
        "# we will add the message into the 2nd last position\n",
        "message.content.insert(-1,  {\n",
        "            \"type\": \"text\",\n",
        "            \"text\": f\"{message_output.content}\",\n",
        "        })"
      ],
      "metadata": {
        "id": "Axb5WlpAy4HP"
      },
      "execution_count": null,
      "outputs": []
    },
    {
      "cell_type": "code",
      "source": [
        "new_query = \"what does he do?\"\n",
        "\n",
        "message.content.insert(-1,  {\n",
        "            \"type\": \"text\",\n",
        "            \"text\": f\"{new_query}\",\n",
        "        })"
      ],
      "metadata": {
        "id": "5U_SUWcazdu4"
      },
      "execution_count": null,
      "outputs": []
    },
    {
      "cell_type": "code",
      "source": [
        "message"
      ],
      "metadata": {
        "id": "oibuLQ8Mzmud"
      },
      "execution_count": null,
      "outputs": []
    },
    {
      "cell_type": "code",
      "source": [
        "message_output = llm.invoke([message])\n",
        "\n",
        "print(message_output.content)"
      ],
      "metadata": {
        "id": "TmUmclivzmwu"
      },
      "execution_count": null,
      "outputs": []
    },
    {
      "cell_type": "code",
      "source": [
        "new_query = \"who is his rival?\"\n",
        "\n",
        "message.content.insert(1,  {\n",
        "            \"type\": \"text\",\n",
        "            \"text\": f\"{new_query}\",\n",
        "        })\n",
        "message_output = llm.invoke([message])\n",
        "\n",
        "print(message_output.content)"
      ],
      "metadata": {
        "id": "frwLo1qwzs5U"
      },
      "execution_count": null,
      "outputs": []
    },
    {
      "cell_type": "code",
      "source": [
        "message"
      ],
      "metadata": {
        "id": "3ybAQMd7z6lB"
      },
      "execution_count": null,
      "outputs": []
    },
    {
      "cell_type": "markdown",
      "source": [
        "# Using append didnt work"
      ],
      "metadata": {
        "id": "YZ67OE9kPoSh"
      }
    },
    {
      "cell_type": "markdown",
      "source": [
        "----------------"
      ],
      "metadata": {
        "id": "eVVIZtqyGSRV"
      }
    },
    {
      "cell_type": "code",
      "source": [
        "model = genai.GenerativeModel('gemini-pro-vision')\n",
        "\n",
        "messages = [\n",
        "    {'role':'user',\n",
        "     'parts': [\"How many champions leagues has this person won.\", img]}\n",
        "]\n",
        "response = model.generate_content(messages)\n",
        "\n",
        "to_markdown(response.text)"
      ],
      "metadata": {
        "id": "5aOuXxDLB37n"
      },
      "execution_count": null,
      "outputs": []
    },
    {
      "cell_type": "code",
      "source": [
        "messages.append({'role':'model',\n",
        "                 'parts':[response.text]})\n",
        "\n",
        "prompt=\"Okay, how many goals has he scored in that tournament?\"\n",
        "messages.append({'role':'user',\n",
        "                 'parts':[prompt, img]})\n",
        "\n",
        "response = model.generate_content(messages)\n",
        "\n",
        "to_markdown(response.text)"
      ],
      "metadata": {
        "id": "fhvNipAOCG-B"
      },
      "execution_count": null,
      "outputs": []
    },
    {
      "cell_type": "markdown",
      "source": [
        "# Looped with insert"
      ],
      "metadata": {
        "id": "wk5uYFS587eg"
      }
    },
    {
      "cell_type": "code",
      "source": [
        "while True:\n",
        "  user_msg = input(\"User: \")\n",
        "  message = HumanMessage(\n",
        "    content=[\n",
        "        {\n",
        "            \"type\": \"text\",\n",
        "            \"text\": user_msg,\n",
        "        },  # You can optionally provide text parts\n",
        "        {\"type\": \"image_url\", \"image_url\": img},\n",
        "    ]\n",
        "  )\n",
        "  message_output = llm.invoke([message])\n",
        "  print(message_output.content)\n",
        "\n",
        "  message.content.insert(-1,  {\n",
        "            \"type\": \"text\",\n",
        "            \"text\": f\"{user_msg}\",\n",
        "        })\n",
        "  # we can add text into content\n",
        "  # we will add the message into the 2nd last position\n",
        "  message.content.insert(-1,  {\n",
        "            \"type\": \"text\",\n",
        "            \"text\": f\"{message_output.content}\",\n",
        "  })\n",
        "  if user_msg == \"exit\":\n",
        "    break"
      ],
      "metadata": {
        "colab": {
          "base_uri": "https://localhost:8080/"
        },
        "id": "G9znNQXN88ig",
        "outputId": "15b56bb9-ee2f-48c4-bd67-2dec68ac181f"
      },
      "execution_count": 14,
      "outputs": [
        {
          "output_type": "stream",
          "name": "stdout",
          "text": [
            "User: what is his son's name\n",
            " Cristiano Ronaldo Jr.\n",
            "User: how old is he\n",
            " Cristiano Ronaldo dos Santos Aveiro is a Portuguese professional footballer who plays as a forward for Serie A club Juventus and captains the Portugal national team.\n",
            "User: how old is jr\n",
            " Cristiano Ronaldo dos Santos Aveiro was born 5 February 1985, is a Portuguese professional footballer who plays as a forward for Serie A club Juventus and captains the Portugal national team.\n",
            "User: goofy ahh\n",
            " cristiano ronaldo\n",
            "User: did ishowspeed meet this person\n",
            " Yes, IShowSpeed has met Cristiano Ronaldo. He was very excited and nervous to meet him. He took a picture with him and posted it on his social media.\n",
            "User: how many likes did that picture get on instagram\n",
            " The picture got 1,000 likes on Instagram.\n",
            "User: thats it?\n",
            " Cristiano Ronaldo dos Santos Aveiro is a Portuguese professional footballer who plays as a forward for Italian club Juventus and captains the Portugal national team.\n",
            "User: which club does he play for?\n",
            " Cristiano Ronaldo plays for Real Madrid.\n",
            "User: are you sure he doesn't play for al nassr\n",
            " Cristiano Ronaldo is a Portuguese professional footballer who plays as a forward for Saudi Arabian club Al Nassr and captains the Portugal national team.\n",
            "User: so which club does he play for\n",
            " Cristiano Ronaldo plays for the Saudi Arabian club Al Nassr.\n",
            "User: how many goals did he score in his latest match\n",
            " Cristiano Ronaldo scored a hat-trick in his latest match for Al Nassr on March 3rd, 2023 against Damac FC.\n",
            "User: how many instagram followers does he have as of 20 feb 2024\n",
            " Cristiano Ronaldo has 516M followers on Instagram as of February 2024.\n",
            "User: what is your knowledge cutoff date\n",
            " 2016\n",
            "User: what is your knowledge cutoff date\n",
            " I do not have access to real-time information, therefore I cannot answer the question.\n",
            "User: exit\n",
            " Cristiano Ronaldo is a Portuguese professional footballer who plays as a forward for Serie A club Juventus and the Portugal national team.\n"
          ]
        }
      ]
    },
    {
      "cell_type": "code",
      "source": [],
      "metadata": {
        "id": "9d_P6MGkNZd8"
      },
      "execution_count": null,
      "outputs": []
    }
  ],
  "metadata": {
    "colab": {
      "name": "Welcome To Colaboratory",
      "provenance": []
    },
    "kernelspec": {
      "display_name": "Python 3",
      "name": "python3"
    }
  },
  "nbformat": 4,
  "nbformat_minor": 0
}