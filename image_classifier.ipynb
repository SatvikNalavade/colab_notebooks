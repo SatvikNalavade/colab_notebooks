import cv2
import os
import numpy as np
from skimage.metrics import structural_similarity as ssim
import networkx as nx
import matplotlib.pyplot as plt

def resize_image(image, width=300, height=None):
    if height is None:
        height = width
    dim = (width, height)
    resized = cv2.resize(image, dim, interpolation=cv2.INTER_AREA)
    return resized

def image_similarity(img1, img2):
    # Resize images to a fixed size
    img1_resized = resize_image(img1)
    img2_resized = resize_image(img2)

    # Convert images to grayscale
    gray1 = cv2.cvtColor(img1_resized, cv2.COLOR_BGR2GRAY)
    gray2 = cv2.cvtColor(img2_resized, cv2.COLOR_BGR2GRAY)

    # Compute Structural Similarity Index (SSIM) between the two images
    score, _ = ssim(gray1, gray2, full=True)
    return score

def group_similar_images(image_files, threshold=0.8):
    groups = []
    visited = set()

    for i, img_file1 in enumerate(image_files):
        if i not in visited:
            similar_group = [img_file1]
            visited.add(i)

            img1 = cv2.imread(img_file1)
            for j, img_file2 in enumerate(image_files[i+1:], start=i+1):
                if j not in visited:
                    img2 = cv2.imread(img_file2)
                    similarity = image_similarity(img1, img2)
                    if similarity >= threshold:
                        similar_group.append(img_file2)
                        visited.add(j)

            groups.append(similar_group)

    return groups

def visualize_graph(image_files, groups):
    G = nx.Graph()

    # Add all image files as nodes
    for img_file in image_files:
        node_name = os.path.basename(img_file)
        G.add_node(node_name)

    # Add edges between similar images
    for group in groups:
        if len(group) > 1:
            for i in range(len(group)):
                for j in range(i+1, len(group)):
                    node1 = os.path.basename(group[i])
                    node2 = os.path.basename(group[j])
                    G.add_edge(node1, node2)

    pos = nx.spring_layout(G)
    nx.draw(G, pos, with_labels=True, node_size=1500, node_color="skyblue", font_size=10)
    plt.show()

if __name__ == "__main__":
    # Provide the directory containing the image files
    image_dir = "/content/images"

    # List image files
    image_files = [os.path.join(image_dir, f) for f in os.listdir(image_dir) if f.endswith('.jpg') or f.endswith('.png')]

    # Group similar images
    groups = group_similar_images(image_files)

    # Visualize graph with all image nodes
    visualize_graph(image_files, groups)
